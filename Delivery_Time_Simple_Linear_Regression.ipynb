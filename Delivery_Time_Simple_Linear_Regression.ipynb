{
 "cells": [
  {
   "cell_type": "markdown",
   "id": "55a6e0cf",
   "metadata": {},
   "source": [
    "## Build a simple linear regression model by performing EDA and do necessary transformations and select the best model using R or Python.\n",
    "## Delivery_time -> Predict delivery time using sorting time \n",
    "### (Use Dataset 'delivery_time')"
   ]
  },
  {
   "cell_type": "markdown",
   "id": "c00e9225",
   "metadata": {},
   "source": [
    "### Importing Libraries and Dataset"
   ]
  },
  {
   "cell_type": "code",
   "execution_count": 30,
   "id": "a1359dbb",
   "metadata": {},
   "outputs": [],
   "source": [
    "import pandas as pd\n",
    "import numpy as np\n",
    "import seaborn as sns\n",
    "%matplotlib inline\n",
    "import matplotlib.pyplot as plt\n",
    "import statsmodels.formula.api as sm\n",
    "import statsmodels.api\n",
    "from statsmodels.graphics.regressionplots import influence_plot"
   ]
  },
  {
   "cell_type": "code",
   "execution_count": 8,
   "id": "ba530f96",
   "metadata": {},
   "outputs": [
    {
     "data": {
      "text/html": [
       "<div>\n",
       "<style scoped>\n",
       "    .dataframe tbody tr th:only-of-type {\n",
       "        vertical-align: middle;\n",
       "    }\n",
       "\n",
       "    .dataframe tbody tr th {\n",
       "        vertical-align: top;\n",
       "    }\n",
       "\n",
       "    .dataframe thead th {\n",
       "        text-align: right;\n",
       "    }\n",
       "</style>\n",
       "<table border=\"1\" class=\"dataframe\">\n",
       "  <thead>\n",
       "    <tr style=\"text-align: right;\">\n",
       "      <th></th>\n",
       "      <th>Delivery Time</th>\n",
       "      <th>Sorting Time</th>\n",
       "    </tr>\n",
       "  </thead>\n",
       "  <tbody>\n",
       "    <tr>\n",
       "      <th>0</th>\n",
       "      <td>21.00</td>\n",
       "      <td>10</td>\n",
       "    </tr>\n",
       "    <tr>\n",
       "      <th>1</th>\n",
       "      <td>13.50</td>\n",
       "      <td>4</td>\n",
       "    </tr>\n",
       "    <tr>\n",
       "      <th>2</th>\n",
       "      <td>19.75</td>\n",
       "      <td>6</td>\n",
       "    </tr>\n",
       "    <tr>\n",
       "      <th>3</th>\n",
       "      <td>24.00</td>\n",
       "      <td>9</td>\n",
       "    </tr>\n",
       "    <tr>\n",
       "      <th>4</th>\n",
       "      <td>29.00</td>\n",
       "      <td>10</td>\n",
       "    </tr>\n",
       "  </tbody>\n",
       "</table>\n",
       "</div>"
      ],
      "text/plain": [
       "   Delivery Time  Sorting Time\n",
       "0          21.00            10\n",
       "1          13.50             4\n",
       "2          19.75             6\n",
       "3          24.00             9\n",
       "4          29.00            10"
      ]
     },
     "execution_count": 8,
     "metadata": {},
     "output_type": "execute_result"
    }
   ],
   "source": [
    "del_time=pd.read_csv(\"C:\\Vishal\\ExcelR\\Data Science\\Assignments\\delivery_time.csv\")\n",
    "del_time.head()"
   ]
  },
  {
   "cell_type": "markdown",
   "id": "ebd903cf",
   "metadata": {},
   "source": [
    "### Performing Exploratory Data Analysis"
   ]
  },
  {
   "cell_type": "code",
   "execution_count": 9,
   "id": "d4cbb23c",
   "metadata": {},
   "outputs": [
    {
     "name": "stdout",
     "output_type": "stream",
     "text": [
      "<class 'pandas.core.frame.DataFrame'>\n",
      "RangeIndex: 21 entries, 0 to 20\n",
      "Data columns (total 2 columns):\n",
      " #   Column         Non-Null Count  Dtype  \n",
      "---  ------         --------------  -----  \n",
      " 0   Delivery Time  21 non-null     float64\n",
      " 1   Sorting Time   21 non-null     int64  \n",
      "dtypes: float64(1), int64(1)\n",
      "memory usage: 464.0 bytes\n"
     ]
    }
   ],
   "source": [
    "del_time.info()\n",
    "#No Null values detected & correct data types present"
   ]
  },
  {
   "cell_type": "code",
   "execution_count": 10,
   "id": "20532a14",
   "metadata": {},
   "outputs": [],
   "source": [
    "#Feature Engineering - Renaming columns\n",
    "del_time.rename({'Delivery Time':'delivery_time','Sorting Time':'sorting_time'},axis=1,inplace=True)"
   ]
  },
  {
   "cell_type": "code",
   "execution_count": 11,
   "id": "b4c9b459",
   "metadata": {},
   "outputs": [
    {
     "data": {
      "text/plain": [
       "<AxesSubplot:>"
      ]
     },
     "execution_count": 11,
     "metadata": {},
     "output_type": "execute_result"
    },
    {
     "data": {
      "image/png": "[encoded data removed]",
      "text/plain": [
       "<Figure size 432x288 with 1 Axes>"
      ]
     },
     "metadata": {
      "needs_background": "light"
     },
     "output_type": "display_data"
    }
   ],
   "source": [
    "#Checking for outliers\n",
    "sns.boxplot(data=del_time)\n",
    "#No outliers detected"
   ]
  },
  {
   "cell_type": "markdown",
   "id": "5ede56d8",
   "metadata": {},
   "source": [
    "### Correlation Analysis"
   ]
  },
  {
   "cell_type": "code",
   "execution_count": 12,
   "id": "2f5b10a3",
   "metadata": {},
   "outputs": [
    {
     "data": {
      "text/plain": [
       "<AxesSubplot:>"
      ]
     },
     "execution_count": 12,
     "metadata": {},
     "output_type": "execute_result"
    },
    {
     "data": {
      "image/png": "[encoded data removed]",
      "text/plain": [
       "<Figure size 432x288 with 2 Axes>"
      ]
     },
     "metadata": {
      "needs_background": "light"
     },
     "output_type": "display_data"
    }
   ],
   "source": [
    "#Finding correlation using Heatmap\n",
    "sns.heatmap(del_time.corr(),annot=True)\n",
    "#We're having a good positive correlation of 0.98 between the variables"
   ]
  },
  {
   "cell_type": "code",
   "execution_count": 13,
   "id": "c1749744",
   "metadata": {},
   "outputs": [
    {
     "data": {
      "text/plain": [
       "<AxesSubplot:xlabel='sorting_time', ylabel='delivery_time'>"
      ]
     },
     "execution_count": 13,
     "metadata": {},
     "output_type": "execute_result"
    },
    {
     "data": {
      "image/png": "[encoded data removed]",
      "text/plain": [
       "<Figure size 432x288 with 1 Axes>"
      ]
     },
     "metadata": {
      "needs_background": "light"
     },
     "output_type": "display_data"
    }
   ],
   "source": [
    "sns.regplot(x=del_time['sorting_time'],y=del_time['delivery_time'])"
   ]
  },
  {
   "cell_type": "markdown",
   "id": "42ebbc72",
   "metadata": {},
   "source": [
    "### Building the model"
   ]
  },
  {
   "cell_type": "code",
   "execution_count": 14,
   "id": "5ff498bf",
   "metadata": {},
   "outputs": [],
   "source": [
    "#Identifying Feature x and Target y and Initializing the Model\n",
    "Regression_Model=sm.ols('delivery_time~sorting_time',data=del_time).fit()"
   ]
  },
  {
   "cell_type": "markdown",
   "id": "0cc1b97a",
   "metadata": {},
   "source": [
    "### Model Testing"
   ]
  },
  {
   "cell_type": "code",
   "execution_count": 15,
   "id": "e328b30b",
   "metadata": {},
   "outputs": [
    {
     "name": "stdout",
     "output_type": "stream",
     "text": [
      "Intercept       6.582734\n",
      "sorting_time    1.649020\n",
      "dtype: float64\n"
     ]
    }
   ],
   "source": [
    "#Calculating coefficient parameters\n",
    "print(Regression_Model.params)"
   ]
  },
  {
   "cell_type": "code",
   "execution_count": 16,
   "id": "18b546b3",
   "metadata": {},
   "outputs": [
    {
     "name": "stdout",
     "output_type": "stream",
     "text": [
      "Intercept       3.823349\n",
      "sorting_time    6.387447\n",
      "dtype: float64 \n",
      " Intercept       0.001147\n",
      "sorting_time    0.000004\n",
      "dtype: float64\n"
     ]
    }
   ],
   "source": [
    "#Calculating t-values & p-values\n",
    "print(Regression_Model.tvalues,'\\n',Regression_Model.pvalues)"
   ]
  },
  {
   "cell_type": "code",
   "execution_count": 17,
   "id": "d5259001",
   "metadata": {
    "scrolled": true
   },
   "outputs": [
    {
     "name": "stdout",
     "output_type": "stream",
     "text": [
      "r-squared value:  0.6822714748417231 r-squared adjusted value:  0.6655489208860244\n"
     ]
    }
   ],
   "source": [
    "print('r-squared value: ',Regression_Model.rsquared,'r-squared adjusted value: ',Regression_Model.rsquared_adj)"
   ]
  },
  {
   "cell_type": "markdown",
   "id": "8e56434b",
   "metadata": {},
   "source": [
    "### Model Tranformation - Rebuilding to improve accuracy"
   ]
  },
  {
   "cell_type": "markdown",
   "id": "a9ad0723",
   "metadata": {},
   "source": [
    "Transforming variables for accuracy"
   ]
  },
  {
   "cell_type": "code",
   "execution_count": 34,
   "id": "11982380",
   "metadata": {},
   "outputs": [],
   "source": [
    "Regression_Model_1=sm.ols('delivery_time~np.log(sorting_time)',data=del_time).fit()"
   ]
  },
  {
   "cell_type": "code",
   "execution_count": 35,
   "id": "d8814f4f",
   "metadata": {},
   "outputs": [
    {
     "name": "stdout",
     "output_type": "stream",
     "text": [
      "Intercept               1.159684\n",
      "np.log(sorting_time)    9.043413\n",
      "dtype: float64\n"
     ]
    }
   ],
   "source": [
    "#Calculating coefficient parameters\n",
    "print(Regression_Model_1.params)"
   ]
  },
  {
   "cell_type": "code",
   "execution_count": 36,
   "id": "8501a3ac",
   "metadata": {},
   "outputs": [
    {
     "name": "stdout",
     "output_type": "stream",
     "text": [
      "Intercept               0.472460\n",
      "np.log(sorting_time)    6.586789\n",
      "dtype: float64 \n",
      " Intercept               0.641980\n",
      "np.log(sorting_time)    0.000003\n",
      "dtype: float64\n"
     ]
    }
   ],
   "source": [
    "#Calculating t-values & p-values\n",
    "print(Regression_Model_1.tvalues,'\\n',Regression_Model_1.pvalues)"
   ]
  },
  {
   "cell_type": "code",
   "execution_count": 37,
   "id": "d6e1b099",
   "metadata": {},
   "outputs": [
    {
     "name": "stdout",
     "output_type": "stream",
     "text": [
      "r-squared value:  0.6954434611324223 r-squared adjusted value:  0.6794141696130761\n"
     ]
    }
   ],
   "source": [
    "print('r-squared value: ',Regression_Model_1.rsquared,'r-squared adjusted value: ',Regression_Model_1.rsquared_adj)"
   ]
  },
  {
   "cell_type": "markdown",
   "id": "b54b351e",
   "metadata": {},
   "source": [
    "Exponential transformation"
   ]
  },
  {
   "cell_type": "code",
   "execution_count": 40,
   "id": "a148e7f9",
   "metadata": {},
   "outputs": [],
   "source": [
    "Regression_Model_2 = sm.ols('np.log(delivery_time)~sorting_time',data=del_time).fit()"
   ]
  },
  {
   "cell_type": "code",
   "execution_count": 41,
   "id": "f0ad9c70",
   "metadata": {},
   "outputs": [
    {
     "name": "stdout",
     "output_type": "stream",
     "text": [
      "Intercept       2.121372\n",
      "sorting_time    0.105552\n",
      "dtype: float64\n"
     ]
    }
   ],
   "source": [
    "#Calculating coefficient parameters\n",
    "print(Regression_Model_2.params)"
   ]
  },
  {
   "cell_type": "code",
   "execution_count": 42,
   "id": "f21b37e9",
   "metadata": {},
   "outputs": [
    {
     "name": "stdout",
     "output_type": "stream",
     "text": [
      "Intercept       20.601357\n",
      "sorting_time     6.836088\n",
      "dtype: float64 \n",
      " Intercept       1.857343e-14\n",
      "sorting_time    1.592708e-06\n",
      "dtype: float64\n"
     ]
    }
   ],
   "source": [
    "#Calculating t-values & p-values\n",
    "print(Regression_Model_2.tvalues,'\\n',Regression_Model_2.pvalues)"
   ]
  },
  {
   "cell_type": "code",
   "execution_count": 43,
   "id": "07a6adf7",
   "metadata": {
    "scrolled": true
   },
   "outputs": [
    {
     "name": "stdout",
     "output_type": "stream",
     "text": [
      "r-squared value:  0.7109478980584187 r-squared adjusted value:  0.6957346295351776\n"
     ]
    }
   ],
   "source": [
    "print('r-squared value: ',Regression_Model_2.rsquared,'r-squared adjusted value: ',Regression_Model_2.rsquared_adj)"
   ]
  },
  {
   "cell_type": "code",
   "execution_count": 45,
   "id": "3152a595",
   "metadata": {
    "scrolled": true
   },
   "outputs": [
    {
     "data": {
      "text/html": [
       "<div>\n",
       "<style scoped>\n",
       "    .dataframe tbody tr th:only-of-type {\n",
       "        vertical-align: middle;\n",
       "    }\n",
       "\n",
       "    .dataframe tbody tr th {\n",
       "        vertical-align: top;\n",
       "    }\n",
       "\n",
       "    .dataframe thead th {\n",
       "        text-align: right;\n",
       "    }\n",
       "</style>\n",
       "<table border=\"1\" class=\"dataframe\">\n",
       "  <thead>\n",
       "    <tr style=\"text-align: right;\">\n",
       "      <th></th>\n",
       "      <th>Models</th>\n",
       "      <th>Adjusted rsquare</th>\n",
       "    </tr>\n",
       "  </thead>\n",
       "  <tbody>\n",
       "    <tr>\n",
       "      <th>0</th>\n",
       "      <td>Regression_Model</td>\n",
       "      <td>0.665549</td>\n",
       "    </tr>\n",
       "    <tr>\n",
       "      <th>1</th>\n",
       "      <td>Regression_Model_1</td>\n",
       "      <td>0.679414</td>\n",
       "    </tr>\n",
       "    <tr>\n",
       "      <th>2</th>\n",
       "      <td>Regression_Model_2</td>\n",
       "      <td>0.695735</td>\n",
       "    </tr>\n",
       "  </tbody>\n",
       "</table>\n",
       "</div>"
      ],
      "text/plain": [
       "               Models  Adjusted rsquare\n",
       "0    Regression_Model          0.665549\n",
       "1  Regression_Model_1          0.679414\n",
       "2  Regression_Model_2          0.695735"
      ]
     },
     "execution_count": 45,
     "metadata": {},
     "output_type": "execute_result"
    }
   ],
   "source": [
    "# Comparing Model Accuracy\n",
    "d = {'Models': ['Regression_Model', 'Regression_Model_1', 'Regression_Model_2'], 'Adjusted rsquare': [Regression_Model.rsquared_adj, Regression_Model_1.rsquared_adj, Regression_Model_2.rsquared_adj]}\n",
    "df = pd.DataFrame(d)\n",
    "df"
   ]
  },
  {
   "cell_type": "markdown",
   "id": "9e5101e1",
   "metadata": {},
   "source": [
    "As the accuracy is increased from 66.55 % to 69.57% and highest for Regression_Model_2 we'll use that model for prediction"
   ]
  },
  {
   "cell_type": "code",
   "execution_count": 46,
   "id": "5c5049be",
   "metadata": {},
   "outputs": [
    {
     "data": {
      "image/png": "[encoded data removed]",
      "text/plain": [
       "<Figure size 432x288 with 1 Axes>"
      ]
     },
     "metadata": {
      "needs_background": "light"
     },
     "output_type": "display_data"
    }
   ],
   "source": [
    "statsmodels.api.qqplot(Regression_Model_2.resid,line='q')\n",
    "plt.title(\"Normal Q-Q plot of residuals\")\n",
    "plt.show()"
   ]
  },
  {
   "cell_type": "code",
   "execution_count": 47,
   "id": "0f1608d7",
   "metadata": {},
   "outputs": [
    {
     "data": {
      "image/png": "[encoded data removed]",
      "text/plain": [
       "<Figure size 864x576 with 4 Axes>"
      ]
     },
     "metadata": {
      "needs_background": "light"
     },
     "output_type": "display_data"
    }
   ],
   "source": [
    "#defining figure size\n",
    "fig = plt.figure(figsize=(12,8))\n",
    "#producing regression plots\n",
    "fig = statsmodels.api.graphics.plot_regress_exog(Regression_Model_2, 'sorting_time', fig=fig)"
   ]
  },
  {
   "cell_type": "markdown",
   "id": "844172d4",
   "metadata": {},
   "source": [
    "### Testing the model"
   ]
  },
  {
   "cell_type": "code",
   "execution_count": 50,
   "id": "4c389779",
   "metadata": {},
   "outputs": [
    {
     "data": {
      "text/html": [
       "<div>\n",
       "<style scoped>\n",
       "    .dataframe tbody tr th:only-of-type {\n",
       "        vertical-align: middle;\n",
       "    }\n",
       "\n",
       "    .dataframe tbody tr th {\n",
       "        vertical-align: top;\n",
       "    }\n",
       "\n",
       "    .dataframe thead th {\n",
       "        text-align: right;\n",
       "    }\n",
       "</style>\n",
       "<table border=\"1\" class=\"dataframe\">\n",
       "  <thead>\n",
       "    <tr style=\"text-align: right;\">\n",
       "      <th></th>\n",
       "      <th>delivery_time</th>\n",
       "      <th>Predicted Delivery Time</th>\n",
       "    </tr>\n",
       "  </thead>\n",
       "  <tbody>\n",
       "    <tr>\n",
       "      <th>0</th>\n",
       "      <td>21.00</td>\n",
       "      <td>23.972032</td>\n",
       "    </tr>\n",
       "    <tr>\n",
       "      <th>1</th>\n",
       "      <td>13.50</td>\n",
       "      <td>12.725123</td>\n",
       "    </tr>\n",
       "    <tr>\n",
       "      <th>2</th>\n",
       "      <td>19.75</td>\n",
       "      <td>15.716034</td>\n",
       "    </tr>\n",
       "    <tr>\n",
       "      <th>3</th>\n",
       "      <td>24.00</td>\n",
       "      <td>21.570707</td>\n",
       "    </tr>\n",
       "    <tr>\n",
       "      <th>4</th>\n",
       "      <td>29.00</td>\n",
       "      <td>23.972032</td>\n",
       "    </tr>\n",
       "    <tr>\n",
       "      <th>5</th>\n",
       "      <td>15.35</td>\n",
       "      <td>15.716034</td>\n",
       "    </tr>\n",
       "    <tr>\n",
       "      <th>6</th>\n",
       "      <td>19.00</td>\n",
       "      <td>17.465597</td>\n",
       "    </tr>\n",
       "    <tr>\n",
       "      <th>7</th>\n",
       "      <td>9.50</td>\n",
       "      <td>11.450423</td>\n",
       "    </tr>\n",
       "    <tr>\n",
       "      <th>8</th>\n",
       "      <td>17.90</td>\n",
       "      <td>23.972032</td>\n",
       "    </tr>\n",
       "    <tr>\n",
       "      <th>9</th>\n",
       "      <td>18.75</td>\n",
       "      <td>21.570707</td>\n",
       "    </tr>\n",
       "    <tr>\n",
       "      <th>10</th>\n",
       "      <td>19.83</td>\n",
       "      <td>19.409927</td>\n",
       "    </tr>\n",
       "    <tr>\n",
       "      <th>11</th>\n",
       "      <td>10.75</td>\n",
       "      <td>12.725123</td>\n",
       "    </tr>\n",
       "    <tr>\n",
       "      <th>12</th>\n",
       "      <td>16.68</td>\n",
       "      <td>17.465597</td>\n",
       "    </tr>\n",
       "    <tr>\n",
       "      <th>13</th>\n",
       "      <td>11.50</td>\n",
       "      <td>11.450423</td>\n",
       "    </tr>\n",
       "    <tr>\n",
       "      <th>14</th>\n",
       "      <td>12.03</td>\n",
       "      <td>11.450423</td>\n",
       "    </tr>\n",
       "    <tr>\n",
       "      <th>15</th>\n",
       "      <td>14.88</td>\n",
       "      <td>12.725123</td>\n",
       "    </tr>\n",
       "    <tr>\n",
       "      <th>16</th>\n",
       "      <td>13.75</td>\n",
       "      <td>15.716034</td>\n",
       "    </tr>\n",
       "    <tr>\n",
       "      <th>17</th>\n",
       "      <td>18.11</td>\n",
       "      <td>17.465597</td>\n",
       "    </tr>\n",
       "    <tr>\n",
       "      <th>18</th>\n",
       "      <td>8.00</td>\n",
       "      <td>10.303411</td>\n",
       "    </tr>\n",
       "    <tr>\n",
       "      <th>19</th>\n",
       "      <td>17.83</td>\n",
       "      <td>17.465597</td>\n",
       "    </tr>\n",
       "    <tr>\n",
       "      <th>20</th>\n",
       "      <td>21.50</td>\n",
       "      <td>14.141728</td>\n",
       "    </tr>\n",
       "  </tbody>\n",
       "</table>\n",
       "</div>"
      ],
      "text/plain": [
       "    delivery_time  Predicted Delivery Time\n",
       "0           21.00                23.972032\n",
       "1           13.50                12.725123\n",
       "2           19.75                15.716034\n",
       "3           24.00                21.570707\n",
       "4           29.00                23.972032\n",
       "5           15.35                15.716034\n",
       "6           19.00                17.465597\n",
       "7            9.50                11.450423\n",
       "8           17.90                23.972032\n",
       "9           18.75                21.570707\n",
       "10          19.83                19.409927\n",
       "11          10.75                12.725123\n",
       "12          16.68                17.465597\n",
       "13          11.50                11.450423\n",
       "14          12.03                11.450423\n",
       "15          14.88                12.725123\n",
       "16          13.75                15.716034\n",
       "17          18.11                17.465597\n",
       "18           8.00                10.303411\n",
       "19          17.83                17.465597\n",
       "20          21.50                14.141728"
      ]
     },
     "execution_count": 50,
     "metadata": {},
     "output_type": "execute_result"
    }
   ],
   "source": [
    "#Making prediction using given data (taking exponential as we've used log while building the model)\n",
    "#Comparing Actual and Predicted Delivery Time\n",
    "del_time_act = pd.DataFrame(del_time.delivery_time)\n",
    "del_time_pred = pd.DataFrame(np.exp(Regression_Model_2.predict()),columns=['Predicted Delivery Time'])\n",
    "pd.concat([del_time_act, del_time_pred], axis = 1)"
   ]
  },
  {
   "cell_type": "code",
   "execution_count": 52,
   "id": "b48b2633",
   "metadata": {
    "scrolled": true
   },
   "outputs": [
    {
     "data": {
      "text/plain": [
       "Text(0, 0.5, 'Delivery Time')"
      ]
     },
     "execution_count": 52,
     "metadata": {},
     "output_type": "execute_result"
    },
    {
     "data": {
      "image/png": "[encoded data removed]",
      "text/plain": [
       "<Figure size 432x288 with 1 Axes>"
      ]
     },
     "metadata": {
      "needs_background": "light"
     },
     "output_type": "display_data"
    }
   ],
   "source": [
    "#Plotting graph of actual delivery time vs predicted delivery time\n",
    "#plt.plot(del_time.sorting_time)\n",
    "plt.plot(del_time_act)\n",
    "plt.plot(del_time_pred)\n",
    "plt.legend(['Actual Delivery Time','Predicted Delivery Time'])\n",
    "plt.title(\"Actual vs Predicted Delivery Time\")\n",
    "plt.xlabel(\"Sorting Time\")\n",
    "plt.ylabel(\"Delivery Time\")"
   ]
  },
  {
   "cell_type": "markdown",
   "id": "2365ec29",
   "metadata": {},
   "source": [
    "### Predicting Delivery Time Using Model!"
   ]
  },
  {
   "cell_type": "code",
   "execution_count": 54,
   "id": "aa2cebc8",
   "metadata": {},
   "outputs": [
    {
     "name": "stdout",
     "output_type": "stream",
     "text": [
      "Enter the Sorting Time : 12\n",
      "The expected Delivery Time is:  0    29.606414\n",
      "dtype: float64\n"
     ]
    }
   ],
   "source": [
    "## r-squared value is 0.68 hence model can be used for prediction!\n",
    "x = (int(input(\"Enter the Sorting Time : \")))\n",
    "np.asarray(x)\n",
    "x = pd.DataFrame([x], columns = ['sorting_time'])\n",
    "print('The expected Delivery Time is: ', np.exp(Regression_Model_2.predict(x)))"
   ]
  },
  {
   "cell_type": "code",
   "execution_count": null,
   "id": "b214682a",
   "metadata": {},
   "outputs": [],
   "source": []
  }
 ],
 "metadata": {
  "kernelspec": {
   "display_name": "Python 3",
   "language": "python",
   "name": "python3"
  },
  "language_info": {
   "codemirror_mode": {
    "name": "ipython",
    "version": 3
   },
   "file_extension": ".py",
   "mimetype": "text/x-python",
   "name": "python",
   "nbconvert_exporter": "python",
   "pygments_lexer": "ipython3",
   "version": "3.8.8"
  }
 },
 "nbformat": 4,
 "nbformat_minor": 5
}
